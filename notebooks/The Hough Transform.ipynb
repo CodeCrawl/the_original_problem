{
 "cells": [
  {
   "cell_type": "markdown",
   "metadata": {},
   "source": [
    "# **Physics with Cameras**"
   ]
  },
  {
   "cell_type": "markdown",
   "metadata": {},
   "source": [
    "**Recommended Reading/Viewing:**\n",
    "\n",
    "1. Placeholder\n",
    "\n",
    "**Additional Reading**\n",
    "1. Placeholder\n",
    "\n",
    "**Recommended [Jupyter Theme](https://github.com/dunovank/jupyter-themes) for presenting this notebook:**\n",
    "````\n",
    "jt -t grade3 -cellw=90% -fs=20 -tfs=20 -ofs=20\n",
    "````"
   ]
  },
  {
   "cell_type": "markdown",
   "metadata": {},
   "source": [
    "---"
   ]
  },
  {
   "cell_type": "markdown",
   "metadata": {},
   "source": [
    "![](../graphics/the_bubble_chamber-01.png)"
   ]
  },
  {
   "cell_type": "markdown",
   "metadata": {},
   "source": [
    "- In 1952 [Donald A. Glaser](https://en.wikipedia.org/wiki/Donald_A._Glaser) invented a new tool for studying partical physics - the **[bubble chamber](https://en.wikipedia.org/wiki/Bubble_chamber)**. \n",
    "    - Glaser was awarded the Nobel Prize in 1960 for his invention.\n",
    "- The bubble chamber worked by tracing the bubbles formed by charged particles moving through a superheated liquid. \n",
    "- Physicists took pictures of the bubbles as particles moved through the chamber using multiple cameras mounted around the bubble chamber.\n",
    "- By analyzing the the radius of curvature of the bubbles, physicist could infer the momentum of individual particles.\n",
    "- Bubble chambers and the data they produce have allowed physicist to make some pretty incredible discoveries, such as **weak neutral currents** - [Nice video from 60 symbols](https://www.youtube.com/watch?v=basLNz6frO8)"
   ]
  },
  {
   "cell_type": "markdown",
   "metadata": {},
   "source": [
    "---"
   ]
  },
  {
   "cell_type": "markdown",
   "metadata": {},
   "source": [
    "# ** A Minor Problem with the Bubble Chamber **"
   ]
  },
  {
   "cell_type": "markdown",
   "metadata": {},
   "source": [
    "![](../videos/bubble_chamber_0.gif)"
   ]
  },
  {
   "cell_type": "markdown",
   "metadata": {
    "collapsed": true
   },
   "source": [
    "- One issue with the bubble chamber was handling sheer volume of data it produced. \n",
    "- In the early 1950s, **Paul Hough**, a recent Cornell PhD graduate joined Donald Glaser, the inventor of the Bubble Chamber, at the University of Michigan. \n",
    "- During this period, Hough began working on methods to automate the tedious task of detecting particle tracks in bubble chambers. [Fun Talk from Paul Hough on the bubble chamber](https://www.osti.gov/servlets/purl/4805882).\n",
    "- One particularly difficult problem was detecting lines in images. \n",
    "- One evening walking home from work, Hough had an insight. He published his idea in a very confusing [1962 patent](https://patentimages.storage.googleapis.com/9f/9f/f3/87610ddec32390/US3069654.pdf)."
   ]
  },
  {
   "attachments": {},
   "cell_type": "markdown",
   "metadata": {},
   "source": [
    "![](../graphics/houghs_solution-01.png)"
   ]
  },
  {
   "cell_type": "markdown",
   "metadata": {},
   "source": [
    "- Hough desicribed his idea in geometrical terms in paragraphs (2) and (3) of his 1962 patent, shown above.\n",
    "- In my opinion, Hough's description is a bit tough to follow. We'll introduce his core idea next in simplified way. Once you understand the core idea here, it's interesting to review how Hough presents it - patents are often dense a tough to follow like this, so spending a little time with Hough's patent is good practice!"
   ]
  },
  {
   "cell_type": "markdown",
   "metadata": {},
   "source": [
    "## **Hough's Big Idea**"
   ]
  },
  {
   "cell_type": "markdown",
   "metadata": {},
   "source": [
    "- Let's start with a clear definition of the problem Hough was trying to solve.\n",
    "- We're seeking to detect co-linear or approximately co-linear points in images:"
   ]
  },
  {
   "cell_type": "code",
   "execution_count": null,
   "metadata": {
    "collapsed": true
   },
   "outputs": [],
   "source": []
  },
  {
   "cell_type": "code",
   "execution_count": null,
   "metadata": {
    "collapsed": true
   },
   "outputs": [],
   "source": []
  },
  {
   "cell_type": "code",
   "execution_count": null,
   "metadata": {
    "collapsed": true
   },
   "outputs": [],
   "source": []
  },
  {
   "cell_type": "code",
   "execution_count": null,
   "metadata": {
    "collapsed": true
   },
   "outputs": [],
   "source": []
  },
  {
   "cell_type": "code",
   "execution_count": null,
   "metadata": {
    "collapsed": true
   },
   "outputs": [],
   "source": []
  },
  {
   "cell_type": "code",
   "execution_count": null,
   "metadata": {
    "collapsed": true
   },
   "outputs": [],
   "source": []
  }
 ],
 "metadata": {
  "kernelspec": {
   "display_name": "Python 3",
   "language": "python",
   "name": "python3"
  },
  "language_info": {
   "codemirror_mode": {
    "name": "ipython",
    "version": 3
   },
   "file_extension": ".py",
   "mimetype": "text/x-python",
   "name": "python",
   "nbconvert_exporter": "python",
   "pygments_lexer": "ipython3",
   "version": "3.6.3"
  }
 },
 "nbformat": 4,
 "nbformat_minor": 2
}
